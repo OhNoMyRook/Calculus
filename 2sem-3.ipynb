{
 "cells": [
  {
   "cell_type": "markdown",
   "metadata": {},
   "source": [
    "## Задание 1"
   ]
  },
  {
   "cell_type": "markdown",
   "metadata": {},
   "source": [
    "$$\\int_{-1}^1\\frac{\\sin(\\frac{x}{2})}{e^x-1}dx$$"
   ]
  },
  {
   "cell_type": "code",
   "execution_count": 1,
   "metadata": {},
   "outputs": [],
   "source": [
    "from decimal import Decimal, getcontext\n",
    "import math\n",
    "from functools import lru_cache\n",
    "\n",
    "###############################################################################\n",
    "#  1) Вспомогательные функции для разностных квадратур                        #\n",
    "###############################################################################\n",
    "getcontext().prec = 100  # повышенная точность для Decimal\n",
    "\n",
    "@lru_cache(None)\n",
    "def factorial_dec(n: int) -> Decimal:\n",
    "    if n < 0:\n",
    "        raise ValueError(\"Negative factorial not defined\")\n",
    "    if n == 0 or n == 1:\n",
    "        return Decimal(1)\n",
    "    return Decimal(n) * factorial_dec(n - 1)\n",
    "\n",
    "@lru_cache(None)\n",
    "def comb_dec(n: int, k: int) -> Decimal:\n",
    "    if k < 0 or k > n:\n",
    "        return Decimal(0)\n",
    "    return factorial_dec(n) / (factorial_dec(k) * factorial_dec(n - k))\n",
    "\n",
    "@lru_cache(None)\n",
    "def D(n: int, j: int) -> Decimal:\n",
    "    \"\"\"\n",
    "    Вычисляет D_n^(j) по заданной рекуррентной формуле (см. теорию).\n",
    "    \"\"\"\n",
    "    if j == 0:\n",
    "        return Decimal(1)\n",
    "    # \"прогреваем\" кэш:\n",
    "    _ = D(n, j-1)\n",
    "    return _compute_all_D_up_to(n, j)[j]\n",
    "\n",
    "@lru_cache(None)\n",
    "def _compute_all_D_up_to(n: int, J: int):\n",
    "    results = [Decimal(0)]*(J+1)\n",
    "    results[0] = Decimal(1)\n",
    "    for j in range(J):\n",
    "        s = Decimal(0)\n",
    "        for k in range(n + 2*j + 1):\n",
    "            for l in range(j+1):\n",
    "                val = (\n",
    "                    Decimal((-1)**k)\n",
    "                    * results[l]\n",
    "                    * comb_dec(n+2*l, k - (j - l))\n",
    "                    * Decimal((n + 2*j - 2*k)**(n + 2*j + 2))\n",
    "                    / (Decimal(2)**(n + 2*j + 2) * factorial_dec(n + 2*j + 2))\n",
    "                )\n",
    "                s += val\n",
    "        # Финальная формула берёт только s, без + results[j].\n",
    "        results[j+1] = s\n",
    "    return results\n",
    "\n",
    "@lru_cache(None)\n",
    "def A(k: int, n: int, m: int) -> Decimal:\n",
    "    \"\"\"\n",
    "    A_{k,n}^m = sum_{l=0}^m [ (-1)^(k-m) * D_n^(l) * C_{n+2l}^{k - m + l} ].\n",
    "    \"\"\"\n",
    "    s = Decimal(0)\n",
    "    sign = Decimal((-1)**(k - m))\n",
    "    for l in range(m+1):\n",
    "        s += (\n",
    "            sign\n",
    "            * D(n, l)\n",
    "            * comb_dec(n+2*l, k - m + l)\n",
    "        )\n",
    "    return s\n",
    "\n",
    "@lru_cache(None)\n",
    "def W_list(m: int):\n",
    "    \"\"\"\n",
    "    Коэффициенты W_k^m (k=0..2m) в Decimal.\n",
    "\n",
    "      W_k^m = sum_{n=0}^m [ A_{k,2n}^{m-n} / (2^(2n)*(2n+1)!) ].\n",
    "    \"\"\"\n",
    "    result = []\n",
    "    for k in range(2*m + 1):\n",
    "        s = Decimal(0)\n",
    "        for n_ in range(m+1):\n",
    "            a_val = A(k, 2*n_, m - n_)\n",
    "            denom = (Decimal(2)**(2*n_) * factorial_dec(2*n_+1))\n",
    "            s += a_val / denom\n",
    "        result.append(s)\n",
    "    return result\n",
    "\n",
    "def build_function_values_diff_scheme(f, a: float, b: float, J: int, m: int):\n",
    "    \"\"\"\n",
    "    Центральная сетка: x_j = a + (j+0.5)*h, j=-m..(J-1+m).\n",
    "    Возвращает (y_values, h, calls).\n",
    "    \"\"\"\n",
    "    h = (b - a)/J\n",
    "    values = []\n",
    "    for j_real in range(-m, (J - 1) + m + 1):\n",
    "        x_val = a + (j_real + 0.5)*h\n",
    "        values.append(f(x_val))\n",
    "    calls = len(values)\n",
    "    return values, h, calls\n",
    "\n",
    "def integrate_by_diff_scheme(f, a: float, b: float, J: int, m: int):\n",
    "    \"\"\"\n",
    "    Разностная (дифференсная) квадратура порядка 2m:\n",
    "      ∫[a..b] f(x) dx ≈ h Σ_j Σ_k [ W_{m-k} * f( x_{j+k} ) ].\n",
    "    Возвращает (approx, calls).\n",
    "    \"\"\"\n",
    "    y_values, h, calls = build_function_values_diff_scheme(f, a, b, J, m)\n",
    "    W_dec = W_list(m)\n",
    "    W = [float(wd) for wd in W_dec]\n",
    "    \n",
    "    offset = m\n",
    "    total_sum = 0.0\n",
    "    for j in range(J):\n",
    "        loc_sum = 0.0\n",
    "        for k in range(-m, m+1):\n",
    "            idx = (j + k) + offset\n",
    "            loc_sum += W[m - k] * y_values[idx]\n",
    "        total_sum += loc_sum\n",
    "    return (h * total_sum, calls)\n"
   ]
  },
  {
   "cell_type": "code",
   "execution_count": 2,
   "metadata": {},
   "outputs": [],
   "source": [
    "def f1(x: float) -> float:\n",
    "        return math.sin(x/2)/(math.exp(x)-1)"
   ]
  },
  {
   "cell_type": "code",
   "execution_count": 4,
   "metadata": {},
   "outputs": [
    {
     "data": {
      "text/plain": [
       "1.0130392362326262"
      ]
     },
     "execution_count": 4,
     "metadata": {},
     "output_type": "execute_result"
    }
   ],
   "source": [
    "integrate_by_diff_scheme(f1, -1, 1, 10, 7)[0]"
   ]
  }
 ],
 "metadata": {
  "kernelspec": {
   "display_name": "Python 3",
   "language": "python",
   "name": "python3"
  },
  "language_info": {
   "codemirror_mode": {
    "name": "ipython",
    "version": 3
   },
   "file_extension": ".py",
   "mimetype": "text/x-python",
   "name": "python",
   "nbconvert_exporter": "python",
   "pygments_lexer": "ipython3",
   "version": "3.10.11"
  }
 },
 "nbformat": 4,
 "nbformat_minor": 2
}
