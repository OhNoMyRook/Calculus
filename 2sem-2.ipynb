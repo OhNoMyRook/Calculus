{
 "cells": [
  {
   "cell_type": "markdown",
   "metadata": {},
   "source": [
    "## Задание 1\n"
   ]
  },
  {
   "cell_type": "code",
   "execution_count": 2,
   "metadata": {},
   "outputs": [],
   "source": [
    "import numpy as np\n",
    "from scipy.special import roots_legendre"
   ]
  },
  {
   "cell_type": "code",
   "execution_count": 2,
   "metadata": {},
   "outputs": [],
   "source": [
    "def gauss_2(a, b):\n",
    "    r\"\"\"Return nodes and weights for a two-point Gauss quadrature on [a, b].\n",
    "    \n",
    "    Parameters\n",
    "    ----------\n",
    "    a, b : float\n",
    "       Boundaries of the integration interval\n",
    "       \n",
    "    Returns\n",
    "    -------\n",
    "    x1, x2, w1, w2 : float\n",
    "       Nodes and weights of the quadrature.\n",
    "    \"\"\"\n",
    "    roots, weights = roots_legendre(2) \n",
    "    adjusted_roots = (b - a)/2 * roots + (a + b)/2\n",
    "    adjusted_weigths = weights*(b-a)/2\n",
    "    return *adjusted_roots, *adjusted_weigths\n",
    "    raise NotImplementedError()\n",
    "\n",
    "from numpy.testing import assert_allclose\n",
    "\n",
    "x1, x2, w1, w2 = gauss_2(0, 1)\n",
    "\n",
    "def f(x, n): \n",
    "    return x**n\n",
    "\n",
    "for n in [0, 1, 2, 3]:\n",
    "    assert_allclose(w1*f(x1, n=n) + w2*f(x2, n=n),\n",
    "                    1./(n+1), atol=1e-14)\n"
   ]
  },
  {
   "cell_type": "markdown",
   "metadata": {},
   "source": [
    "## Задание 2"
   ]
  },
  {
   "cell_type": "markdown",
   "metadata": {},
   "source": [
    "$$ I=\\int_0^1 \\frac{e^xdx}{\\sqrt{x(1-x)}}=\\int_0^1\\frac{e^x-1-x}{\\sqrt{x(1-x)}}dx+\\int_0^1\\frac{1}{\\sqrt{x(1-x)}}dx+\\int_0^1\\frac{x}{\\sqrt{x(1-x)}}dx = \\int_0^1\\frac{e^x-1-x}{\\sqrt{x(1-x)}}dx + \\frac{3\\pi}{2} \\approx \\int_0^{0.99}\\frac{e^x-1-x}{\\sqrt{x(1-x)}}dx + \\int_{0.99}^1\\frac{e-2}{\\sqrt{(1-x)}}dx + \\frac{3\\pi}{2}$$"
   ]
  },
  {
   "cell_type": "markdown",
   "metadata": {},
   "source": [
    "Первый интеграл посчитаем через формулу трапеции, второй аналитически:\n",
    "$$ \\int_{0.99}^1\\frac{e-2}{\\sqrt{(1-x)}}dx = 0.2(e-2) $$"
   ]
  },
  {
   "cell_type": "code",
   "execution_count": 17,
   "metadata": {},
   "outputs": [],
   "source": [
    "def func(x):\n",
    "    if x == 0:\n",
    "        return 0\n",
    "    else:\n",
    "        return (np.exp(x)-x-1)/np.sqrt(x*(1-x))"
   ]
  },
  {
   "cell_type": "code",
   "execution_count": 24,
   "metadata": {},
   "outputs": [
    {
     "name": "stdout",
     "output_type": "stream",
     "text": [
      "Значение исходного интеграла: 5.5093627158157075\n"
     ]
    }
   ],
   "source": [
    "integral = 3*np.pi/2+0.2*(np.exp(1)-2)\n",
    "x = np.linspace(0,0.99,1000)\n",
    "for i in range (0,999):\n",
    "    integral+=(x[i+1]-x[i])*(func(x[i])+func(x[i+1]))/2\n",
    "\n",
    "print('Значение исходного интеграла:', integral)"
   ]
  },
  {
   "cell_type": "markdown",
   "metadata": {},
   "source": [
    "Вольфрам даёт значение исходного интеграла $5.50843$"
   ]
  }
 ],
 "metadata": {
  "kernelspec": {
   "display_name": "Python 3",
   "language": "python",
   "name": "python3"
  },
  "language_info": {
   "codemirror_mode": {
    "name": "ipython",
    "version": 3
   },
   "file_extension": ".py",
   "mimetype": "text/x-python",
   "name": "python",
   "nbconvert_exporter": "python",
   "pygments_lexer": "ipython3",
   "version": "3.10.11"
  }
 },
 "nbformat": 4,
 "nbformat_minor": 2
}
