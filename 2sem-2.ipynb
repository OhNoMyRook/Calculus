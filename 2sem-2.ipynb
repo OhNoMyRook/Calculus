{
 "cells": [
  {
   "cell_type": "markdown",
   "metadata": {},
   "source": [
    "## Задание 1\n"
   ]
  },
  {
   "cell_type": "code",
   "execution_count": 2,
   "metadata": {},
   "outputs": [],
   "source": [
    "import numpy as np\n",
    "from scipy.special import roots_legendre"
   ]
  },
  {
   "cell_type": "code",
   "execution_count": 2,
   "metadata": {},
   "outputs": [],
   "source": [
    "def gauss_2(a, b):\n",
    "    r\"\"\"Return nodes and weights for a two-point Gauss quadrature on [a, b].\n",
    "    \n",
    "    Parameters\n",
    "    ----------\n",
    "    a, b : float\n",
    "       Boundaries of the integration interval\n",
    "       \n",
    "    Returns\n",
    "    -------\n",
    "    x1, x2, w1, w2 : float\n",
    "       Nodes and weights of the quadrature.\n",
    "    \"\"\"\n",
    "    roots, weights = roots_legendre(2) \n",
    "    adjusted_roots = (b - a)/2 * roots + (a + b)/2\n",
    "    adjusted_weigths = weights*(b-a)/2\n",
    "    return *adjusted_roots, *adjusted_weigths\n",
    "    raise NotImplementedError()\n",
    "\n",
    "from numpy.testing import assert_allclose\n",
    "\n",
    "x1, x2, w1, w2 = gauss_2(0, 1)\n",
    "\n",
    "def f(x, n): \n",
    "    return x**n\n",
    "\n",
    "for n in [0, 1, 2, 3]:\n",
    "    assert_allclose(w1*f(x1, n=n) + w2*f(x2, n=n),\n",
    "                    1./(n+1), atol=1e-14)\n"
   ]
  },
  {
   "cell_type": "markdown",
   "metadata": {},
   "source": [
    "## Задание 2"
   ]
  },
  {
   "cell_type": "markdown",
   "metadata": {},
   "source": [
    "$$ I=\\int_0^1 \\frac{e^xdx}{\\sqrt{x(1-x)}}=\\int_0^1\\frac{e^x-1-x}{\\sqrt{x(1-x)}}dx+\\int_0^1\\frac{1}{\\sqrt{x(1-x)}}dx+\\int_0^1\\frac{x}{\\sqrt{x(1-x)}}dx = \\int_0^1\\frac{e^x-1-x}{\\sqrt{x(1-x)}}dx + \\frac{3\\pi}{2} \\approx \\int_0^{0.99}\\frac{e^x-1-x}{\\sqrt{x(1-x)}}dx + \\int_{0.99}^1\\frac{e-2}{\\sqrt{(1-x)}}dx + \\frac{3\\pi}{2}$$"
   ]
  },
  {
   "cell_type": "markdown",
   "metadata": {},
   "source": [
    "Первый интеграл посчитаем через формулу трапеции, второй аналитически:\n",
    "$$ \\int_{0.99}^1\\frac{e-2}{\\sqrt{(1-x)}}dx = 0.2(e-2) $$"
   ]
  },
  {
   "cell_type": "code",
   "execution_count": 17,
   "metadata": {},
   "outputs": [],
   "source": [
    "def func(x):\n",
    "    if x == 0:\n",
    "        return 0\n",
    "    else:\n",
    "        return (np.exp(x)-x-1)/np.sqrt(x*(1-x))"
   ]
  },
  {
   "cell_type": "code",
   "execution_count": 25,
   "metadata": {},
   "outputs": [
    {
     "name": "stdout",
     "output_type": "stream",
     "text": [
      "Значение исходного интеграла: 5.50933309476023\n"
     ]
    }
   ],
   "source": [
    "integral = 3*np.pi/2+0.2*(np.exp(1)-2)\n",
    "x = np.linspace(0,0.99,10000)\n",
    "for i in range (0,9999):\n",
    "    integral+=(x[i+1]-x[i])*(func(x[i])+func(x[i+1]))/2\n",
    "\n",
    "print('Значение исходного интеграла:', integral)"
   ]
  },
  {
   "cell_type": "markdown",
   "metadata": {},
   "source": [
    "Вольфрам даёт значение исходного интеграла $5.50843$"
   ]
  },
  {
   "cell_type": "markdown",
   "metadata": {},
   "source": [
    "## Задание 4"
   ]
  },
  {
   "cell_type": "markdown",
   "metadata": {},
   "source": [
    "$$ J = \\int_{-0.5}^{0.5}\\frac{dx}{\\sqrt{|x|(1-x)}} = \\int_{-0.5}^{0-\\delta_1}\\frac{dx}{\\sqrt{|x|(1-x)}} + \\int_{0-\\delta_1}^{0+\\delta_2}\\frac{dx}{\\sqrt{|x|(1-x)}} + \\int_{0+\\delta_2}^{0.5}\\frac{dx}{\\sqrt{|x|(1-x)}} $$"
   ]
  },
  {
   "cell_type": "markdown",
   "metadata": {},
   "source": [
    "Хотим, чтобы интеграл посередине был по модулю меньше какого-то наперед заданного значения эпсилон (точность вычисления)"
   ]
  },
  {
   "cell_type": "markdown",
   "metadata": {},
   "source": [
    "$$\\int_{0-\\delta_1}^{0+\\delta_2}\\frac{dx}{\\sqrt{|x|(1-x)}}=\\int_{0-\\delta_1}^{0}\\frac{dx}{\\sqrt{|x|(1-x)}}+\\int_{0}^{0+\\delta_2}\\frac{dx}{\\sqrt{|x|(1-x)}} = \\int_{0-\\delta_1}^{0}\\frac{dx}{\\sqrt{x(x-1)}} + \\int_{0}^{0+\\delta_2}\\frac{dx}{\\sqrt{x(1-x)}} = \\int_{0}^{0+\\delta_1}\\frac{dx}{\\sqrt{x(1+x)}}+\\int_{0}^{0+\\delta_2}\\frac{dx}{\\sqrt{x(1-x)}}$$"
   ]
  },
  {
   "cell_type": "markdown",
   "metadata": {},
   "source": [
    "$$ |\\int_{0}^{0+\\delta_1}\\frac{dx}{\\sqrt{x(1+x)}}+\\int_{0}^{0+\\delta_2}\\frac{dx}{\\sqrt{x(1-x)}}| \\leq |\\int_{0}^{0+\\delta_1}\\frac{dx}{\\sqrt{x(1+x)}}|+|\\int_{0}^{0+\\delta_2}\\frac{dx}{\\sqrt{x(1-x)}}|\\leq \\int_{0}^{0+\\delta_1}\\frac{dx}{\\sqrt{x}}+\\frac{1}{\\sqrt{1-\\delta_2}}\\int_{0}^{0+\\delta_2}\\frac{dx}{\\sqrt{x}}=2\\sqrt{\\delta_1}+2\\sqrt{\\frac{\\delta_2}{1-\\delta_2}}"
   ]
  },
  {
   "cell_type": "markdown",
   "metadata": {},
   "source": [
    "Выберем одинаковые дельта:\n",
    "$$ \\approx 4\\sqrt{\\delta}\\leq\\varepsilon$$"
   ]
  },
  {
   "cell_type": "code",
   "execution_count": 28,
   "metadata": {},
   "outputs": [
    {
     "data": {
      "text/plain": [
       "6.25e-06"
      ]
     },
     "execution_count": 28,
     "metadata": {},
     "output_type": "execute_result"
    }
   ],
   "source": [
    "def find_delta(epsilon):\n",
    "    return epsilon**2/16\n",
    "\n",
    "find_delta(1e-2)"
   ]
  },
  {
   "cell_type": "markdown",
   "metadata": {},
   "source": [
    "## Задание 5"
   ]
  },
  {
   "cell_type": "code",
   "execution_count": 37,
   "metadata": {},
   "outputs": [],
   "source": [
    "def f(x, k):\n",
    "    return np.exp(-x)*np.sin(k*x)"
   ]
  },
  {
   "cell_type": "code",
   "execution_count": 40,
   "metadata": {},
   "outputs": [],
   "source": [
    "x1 = np.linspace(0, np.pi, 10000)\n",
    "def integrate(k):  ## Интеграл по методу Симпсона\n",
    "    integral1 = 0\n",
    "    for j in range(0, 9999):\n",
    "        integral1+=(x1[j+1]-x1[j])*((f(x1[j],k)+f(x1[j+1],k))/6+f((x1[j]+x1[j+1])/2,k)*2/3)\n",
    "    return integral1"
   ]
  },
  {
   "cell_type": "code",
   "execution_count": null,
   "metadata": {},
   "outputs": [],
   "source": [
    "def true_value(k):  ## Аналитическое выражение\n",
    "    return (k-(np.exp(-np.pi)*(k*np.cos(k*np.pi)+np.sin(k*np.pi))))/(1+k**2)"
   ]
  },
  {
   "cell_type": "code",
   "execution_count": 41,
   "metadata": {},
   "outputs": [
    {
     "data": {
      "text/plain": [
       "0.09473129522141265"
      ]
     },
     "execution_count": 41,
     "metadata": {},
     "output_type": "execute_result"
    }
   ],
   "source": [
    "integrate(10)"
   ]
  },
  {
   "cell_type": "code",
   "execution_count": 43,
   "metadata": {},
   "outputs": [
    {
     "data": {
      "text/plain": [
       "0.09473129522140869"
      ]
     },
     "execution_count": 43,
     "metadata": {},
     "output_type": "execute_result"
    }
   ],
   "source": [
    "true_value(10)"
   ]
  },
  {
   "cell_type": "code",
   "execution_count": 44,
   "metadata": {},
   "outputs": [],
   "source": [
    "numbers = []\n",
    "errors = []\n",
    "for k in range(0,1000):\n",
    "    numbers.append(k)\n",
    "    errors.append(integrate(k)-true_value(k))"
   ]
  },
  {
   "cell_type": "code",
   "execution_count": 45,
   "metadata": {},
   "outputs": [],
   "source": [
    "import matplotlib.pyplot as plt"
   ]
  },
  {
   "cell_type": "code",
   "execution_count": 46,
   "metadata": {},
   "outputs": [
    {
     "data": {
      "image/png": "[encoded data removed]",
      "text/plain": [
       "<Figure size 640x480 with 1 Axes>"
      ]
     },
     "metadata": {},
     "output_type": "display_data"
    }
   ],
   "source": [
    "plt.plot(numbers, errors)\n",
    "plt.title('Зависимость ошибки численного рассчета по методу Симпсона от значения k')\n",
    "plt.xlabel('k')\n",
    "plt.ylabel('Error')\n",
    "plt.grid(True)\n",
    "plt.show()"
   ]
  }
 ],
 "metadata": {
  "kernelspec": {
   "display_name": "Python 3",
   "language": "python",
   "name": "python3"
  },
  "language_info": {
   "codemirror_mode": {
    "name": "ipython",
    "version": 3
   },
   "file_extension": ".py",
   "mimetype": "text/x-python",
   "name": "python",
   "nbconvert_exporter": "python",
   "pygments_lexer": "ipython3",
   "version": "3.10.11"
  }
 },
 "nbformat": 4,
 "nbformat_minor": 2
}
