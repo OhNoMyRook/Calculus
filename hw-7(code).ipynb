{
 "cells": [
  {
   "cell_type": "markdown",
   "metadata": {},
   "source": [
    "## Задача 2"
   ]
  },
  {
   "cell_type": "code",
   "execution_count": 5,
   "metadata": {},
   "outputs": [],
   "source": [
    "import sympy as smp\n",
    "from sympy import*"
   ]
  },
  {
   "cell_type": "code",
   "execution_count": 62,
   "metadata": {},
   "outputs": [],
   "source": [
    "x, a = symbols('x a')\n",
    "def count_order_convergence(func, a):\n",
    "    s = 1\n",
    "    derr = Derivative(func, x).doit()\n",
    "    value = derr.subs(x, smp.sqrt(a))\n",
    "    while value == 0:\n",
    "        s+=1\n",
    "        derr = Derivative(derr, x).doit() \n",
    "        value = derr.subs(x, smp.sqrt(a))\n",
    "    return s  "
   ]
  },
  {
   "cell_type": "code",
   "execution_count": 63,
   "metadata": {},
   "outputs": [
    {
     "data": {
      "text/plain": [
       "4"
      ]
     },
     "execution_count": 63,
     "metadata": {},
     "output_type": "execute_result"
    }
   ],
   "source": [
    "count_order_convergence(x - (11*x**4 - 4*x**2*a + a**2)/(16*x**5)*(x**2 - a), a)"
   ]
  }
 ],
 "metadata": {
  "kernelspec": {
   "display_name": "Python 3",
   "language": "python",
   "name": "python3"
  },
  "language_info": {
   "codemirror_mode": {
    "name": "ipython",
    "version": 3
   },
   "file_extension": ".py",
   "mimetype": "text/x-python",
   "name": "python",
   "nbconvert_exporter": "python",
   "pygments_lexer": "ipython3",
   "version": "3.10.11"
  }
 },
 "nbformat": 4,
 "nbformat_minor": 2
}
