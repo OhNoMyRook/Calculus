{
 "cells": [
  {
   "cell_type": "markdown",
   "metadata": {},
   "source": [
    "## Задание 1"
   ]
  },
  {
   "cell_type": "code",
   "execution_count": 14,
   "metadata": {},
   "outputs": [],
   "source": [
    "import scipy as sp\n",
    "import numpy as np\n",
    "import matplotlib.pyplot as plt"
   ]
  },
  {
   "cell_type": "code",
   "execution_count": 16,
   "metadata": {},
   "outputs": [
    {
     "data": {
      "text/plain": [
       "<matplotlib.image.AxesImage at 0x1c1a91426b0>"
      ]
     },
     "execution_count": 16,
     "metadata": {},
     "output_type": "execute_result"
    },
    {
     "data": {
      "image/png": "[encoded data removed]",
      "text/plain": [
       "<Figure size 640x480 with 1 Axes>"
      ]
     },
     "metadata": {},
     "output_type": "display_data"
    }
   ],
   "source": [
    "A = sp.sparse.diags([[-4]*20, [1]*19, [1]*19, [1]*16, [1]*16],[0, -1, 1, 4, -4]).toarray()\n",
    "plt.imshow(A)"
   ]
  },
  {
   "cell_type": "code",
   "execution_count": 19,
   "metadata": {},
   "outputs": [
    {
     "data": {
      "text/plain": [
       "array([ 0.,  0.,  0.,  0.,  0.,  0.,  0.,  0.,  0.,  0., -1.,  0.,  0.,\n",
       "        0.,  0.,  0.,  0.,  0.,  0.,  0.])"
      ]
     },
     "execution_count": 19,
     "metadata": {},
     "output_type": "execute_result"
    }
   ],
   "source": [
    "b = np.zeros(A.shape[0])\n",
    "b[A.shape[0]//2] = -1\n",
    "b"
   ]
  },
  {
   "cell_type": "markdown",
   "metadata": {},
   "source": [
    "Сначала метод 2:"
   ]
  },
  {
   "cell_type": "code",
   "execution_count": 28,
   "metadata": {},
   "outputs": [
    {
     "name": "stderr",
     "output_type": "stream",
     "text": [
      "C:\\Users\\Матвей\\AppData\\Local\\Temp\\ipykernel_1472\\970048716.py:1: SparseEfficiencyWarning: spsolve requires A be CSC or CSR matrix format\n",
      "  sp.sparse.linalg.spsolve(A,b)\n"
     ]
    },
    {
     "data": {
      "text/plain": [
       "array([0.06372916, 0.09887354, 0.12513814, 0.12788729, 0.15604308,\n",
       "       0.20662688, 0.27379172, 0.23036794, 0.22592901, 0.29779917,\n",
       "       0.53303391, 0.29386375, 0.21950584, 0.2256069 , 0.26668099,\n",
       "       0.1925473 , 0.13262369, 0.11844161, 0.11553585, 0.07702079])"
      ]
     },
     "execution_count": 28,
     "metadata": {},
     "output_type": "execute_result"
    }
   ],
   "source": [
    "sp.sparse.linalg.spsolve(A,b)"
   ]
  },
  {
   "cell_type": "markdown",
   "metadata": {},
   "source": [
    "Теперь метод 1:"
   ]
  },
  {
   "cell_type": "code",
   "execution_count": 90,
   "metadata": {},
   "outputs": [
    {
     "name": "stdout",
     "output_type": "stream",
     "text": [
      "[0.06372916 0.09887354 0.12513814 0.12788729 0.15604308 0.20662688\n",
      " 0.27379172 0.23036794 0.22592901 0.29779917 0.53303391 0.29386375\n",
      " 0.21950584 0.2256069  0.26668099 0.1925473  0.13262369 0.11844161\n",
      " 0.11553585 0.07702079]\n"
     ]
    },
    {
     "data": {
      "image/png": "[encoded data removed]",
      "text/plain": [
       "<Figure size 640x480 with 1 Axes>"
      ]
     },
     "metadata": {},
     "output_type": "display_data"
    }
   ],
   "source": [
    "ab = np.zeros((9,20))\n",
    "for j in range(0,20):\n",
    "    for i in range(0,20):\n",
    "        if -9<4+i-j<9:\n",
    "            ab[4+i-j,j] = A[i,j]\n",
    "        \n",
    "\n",
    "plt.imshow(ab)\n",
    "solution = sp.linalg.solve_banded((4,4), ab, b)\n",
    "print(solution)"
   ]
  },
  {
   "cell_type": "markdown",
   "metadata": {},
   "source": [
    "Решения, полученными двумя разными встроенными методами, совпадают."
   ]
  },
  {
   "cell_type": "markdown",
   "metadata": {},
   "source": [
    "## Задание 2"
   ]
  },
  {
   "cell_type": "code",
   "execution_count": 111,
   "metadata": {},
   "outputs": [
    {
     "data": {
      "text/plain": [
       "array([[0.14285714, 0.        ],\n",
       "       [0.        , 0.14285714]])"
      ]
     },
     "execution_count": 111,
     "metadata": {},
     "output_type": "execute_result"
    }
   ],
   "source": [
    "B = np.array([[7, 0],[0, 7]])\n",
    "np.linalg.inv(B)"
   ]
  },
  {
   "cell_type": "code",
   "execution_count": 130,
   "metadata": {},
   "outputs": [],
   "source": [
    "def inv(matrix, order, epsilon):\n",
    "    inv = np.linalg.inv(matrix).round(1)\n",
    "    psi= np.eye(np.shape(matrix)[0])-matrix@inv\n",
    "    sum = np.zeros((np.shape(matrix)[0], np.shape(matrix)[0]))\n",
    "    while np.linalg.norm(psi, 2) > epsilon:\n",
    "        for i in range (1, order+1):\n",
    "            sum += (psi)**i\n",
    "        sum += np.eye(np.shape(matrix)[0])\n",
    "        inv = inv@sum\n",
    "        psi= np.eye(np.shape(matrix)[0])-matrix@inv\n",
    "    return inv"
   ]
  },
  {
   "cell_type": "code",
   "execution_count": 132,
   "metadata": {},
   "outputs": [
    {
     "data": {
      "text/plain": [
       "array([[0.14285689, 0.        ],\n",
       "       [0.        , 0.14285689]])"
      ]
     },
     "execution_count": 132,
     "metadata": {},
     "output_type": "execute_result"
    }
   ],
   "source": [
    "inv(B, 10, 0.0001)"
   ]
  },
  {
   "cell_type": "markdown",
   "metadata": {},
   "source": [
    "Вычисленная при помощи встроенной в нампи функции обратная матрица отличается от полученной в методе Шульца не более чем на величину указанной погрешности 0.0001"
   ]
  }
 ],
 "metadata": {
  "kernelspec": {
   "display_name": "Python 3",
   "language": "python",
   "name": "python3"
  },
  "language_info": {
   "codemirror_mode": {
    "name": "ipython",
    "version": 3
   },
   "file_extension": ".py",
   "mimetype": "text/x-python",
   "name": "python",
   "nbconvert_exporter": "python",
   "pygments_lexer": "ipython3",
   "version": "3.10.11"
  }
 },
 "nbformat": 4,
 "nbformat_minor": 2
}
