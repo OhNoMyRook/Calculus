{
 "cells": [
  {
   "cell_type": "code",
   "execution_count": 1,
   "metadata": {},
   "outputs": [],
   "source": [
    "import numpy as np"
   ]
  },
  {
   "cell_type": "markdown",
   "metadata": {
    "id": "EJeZafGri0uV"
   },
   "source": [
    "## Задача 1 Площадь."
   ]
  },
  {
   "cell_type": "markdown",
   "metadata": {
    "id": "Cf8ro7b_lzv3"
   },
   "source": [
    "Допишите функцию, которая по трём точкам a, b, c вычисляет площадь \n",
    "треугольника с вершинами в этих точках. Все точки заданы радиус-векторами в n-мерном евклидовом пространстве, в виде массивов np.array."
   ]
  },
  {
   "cell_type": "code",
   "execution_count": 8,
   "metadata": {
    "colab": {
     "base_uri": "https://localhost:8080/"
    },
    "id": "vgFc_2MgmMte",
    "outputId": "5f21e156-b551-47d6-c183-b245f0b3b269"
   },
   "outputs": [
    {
     "name": "stdout",
     "output_type": "stream",
     "text": [
      "2.0\n"
     ]
    }
   ],
   "source": [
    "def S_triangle(a, b, c):\n",
    "    \n",
    "    S = 1/2*np.abs(np.cross(b-a, c-a))\n",
    "    return S\n",
    "\n",
    "a = np.array([0, 0])\n",
    "b = np.array([2, 0])\n",
    "c = np.array([1, 2])\n",
    "print(S_triangle(a,b,c))"
   ]
  },
  {
   "cell_type": "markdown",
   "metadata": {
    "id": "k83kiUCSP5MJ"
   },
   "source": [
    "## Задача 2  В треугольнике."
   ]
  },
  {
   "cell_type": "markdown",
   "metadata": {
    "id": "_89UCB-nle5u"
   },
   "source": [
    "Допишите функцию, которая по трём точкам `a`, `b`, `c` и точке `x` проверяет, лежит ли `x` в треугольнике с вершинами `a`, `b`, `c`. Все точки заданы радиус-векторами в двумерном евклидовом пространстве. Функция должна работать правильно независимо от того, подаются на вход векторы в виде списков или массивов numpy."
   ]
  },
  {
   "cell_type": "code",
   "execution_count": 13,
   "metadata": {
    "colab": {
     "base_uri": "https://localhost:8080/"
    },
    "id": "i98Kef0Kliz6",
    "outputId": "1052e5bc-5fad-421c-bfa7-b14c5570123f"
   },
   "outputs": [
    {
     "name": "stdout",
     "output_type": "stream",
     "text": [
      "True\n",
      "False\n"
     ]
    }
   ],
   "source": [
    "def in_triangle(x, a, b, c):\n",
    "    '''Вернуть True, если x лежит в треугольнике abc, и False, если нет'''\n",
    "    S_xab = S_triangle(x, a, b)\n",
    "    S_xac = S_triangle(x, a, c)\n",
    "    S_xbc = S_triangle(x, b, c)\n",
    "    S_abc = S_triangle(a, b, c)\n",
    "    if (S_xab+S_xac+S_xbc)==S_abc:\n",
    "        return True\n",
    "    else:\n",
    "        return False\n",
    "\n",
    "a = np.array([0, 0])\n",
    "b = np.array([2, 0])\n",
    "c = np.array([1, 1])\n",
    "x = [0.5, 0.5]\n",
    "print(in_triangle(x, a, b, c))\n",
    "x = [2.5, 0.5]\n",
    "print(in_triangle(x, a, b, c))"
   ]
  },
  {
   "cell_type": "markdown",
   "metadata": {
    "id": "YkURZwa6fGVW"
   },
   "source": [
    "##Задача 3  Верхне-треугольная матрица и матричная экспонента."
   ]
  },
  {
   "cell_type": "markdown",
   "metadata": {
    "id": "zPdSc_ntfPCf"
   },
   "source": [
    "Создайте матрицу $A$ размера $32 \\times 32$, задаваемую следующей формулой:\n",
    "$$\n",
    "A_{i j}=-\\delta_{i, j}+\\delta_{i, j-1}+\\delta_{i, j-2}\n",
    "$$\n",
    "- Найдите спектр матрицы $A$. Выведите его на экран.\n",
    "- Используя функцию scipy.linalg.expm, постройте $\\left\\|e^{A t}\\right\\|_{2}$ как функцию $t$ на интервале $0 \\leq t \\leq 50 .$ "
   ]
  },
  {
   "cell_type": "markdown",
   "metadata": {
    "id": "5goJK8XZP6h4"
   },
   "source": [
    "##Задача 4  Прокрустово преобразование."
   ]
  },
  {
   "cell_type": "markdown",
   "metadata": {
    "id": "ZxkF4KCWQNe5"
   },
   "source": [
    "Прокрустово преобразование.  \n",
    "\n",
    "Цель задания - максимально хорошо \"подогнать\" одну фигуру под другую трансляцией плоскости и поворотом.\n",
    "\n",
    "Пусть $\\mathbf{X}_{1}$ и $\\mathbf{X}_{2}-n \\times 2$ матрицы, содержащие $n \\ x, y$-координат точек первой и второй фигур соответственно. Задача сводится к минимизации \"прокрустова расстояния\" между фигурами $min(\\vec{\\mu}, \\mathbf{R})\\left\\|\\mathbf{X}_{2}-\\left(\\mathbf{X}_{1} \\mathbf{R}-\\mathbf{1} \\vec{\\mu}^{T}\\right)\\right\\|_{F}$, где \n",
    "$\\|\\mathbf{X}\\|_{F}=\\operatorname{tr}\\left(\\mathbf{X}^{T} \\mathbf{X}\\right)-$ норма Фробениуса, \n",
    "\n",
    "$\\mathbf{R}-2 \\times 2$ ортогональная матрица поворота, \n",
    "\n",
    "$\\vec{\\mu}$ - двумерный вектор трансляции в плоскости, \n",
    "\n",
    "$\\mathbf{1}$ - столбец из $n$ единиц.\n",
    "\n",
    "\n",
    "Пусть $\\bar{x}_{1}, \\bar{x}_{2}-$ двумерные векторы, содержащие среднее по каждому из двух столбцов матриц $\\mathbf{X}_{1}$ и $\\mathbf{X}_{2} .$ Центрируем $\\mathbf{X}_{1}$ и $\\mathbf{X}_{2}$ , то есть вычтем из них среднее по столбцам, и используем SVD:   \n",
    "\n",
    "\\begin{gathered}\n",
    "\\widetilde{\\boldsymbol{X}}_{1}=\\boldsymbol{X}_{\\mathbf{1}}-\\mathbf{1} \\cdot \\tilde{\\mathrm{x}}_{1}^{\\mathrm{T}}, \\quad \\widetilde{\\boldsymbol{X}}_{2}=\\boldsymbol{X}_{2}-\\mathbf{1} \\cdot \\tilde{\\mathrm{x}}_{2}^{\\mathrm{T}}\n",
    " \\\\\n",
    " \\widetilde{\\boldsymbol{X}}_{1}^{\\mathrm{T}} \\widetilde{\\boldsymbol{X}}_{2}=\\mathbf{U D V}^{\\mathrm{T}}\n",
    "\\end{gathered}\n",
    "\n",
    "Тогда решение поставленной задачи даётся формулами:\n",
    "\n",
    "$$\n",
    "\\vec{\\mu}=\\bar{x}_{2}-\\mathbf{R}^{T} \\bar{x}_{1}, \\quad \\mathbf{R}=\\mathbf{U V}^{T}\n",
    "$$\n",
    "\n",
    "Используя эти формулы, напишите программу, которая подгоняет одну фигуру под другую и визуализирует результат. Координаты точек фигуры в файле signatureData2.csv ."
   ]
  },
  {
   "cell_type": "code",
   "execution_count": null,
   "metadata": {
    "colab": {
     "base_uri": "https://localhost:8080/",
     "height": 265
    },
    "id": "S3YtRAC5QN8o",
    "outputId": "8f6125f5-fffd-4df4-bca9-54e47034c869"
   },
   "outputs": [
    {
     "data": {
      "image/png": "[encoded data removed]",
      "text/plain": [
       "<Figure size 432x288 with 1 Axes>"
      ]
     },
     "metadata": {
      "needs_background": "light"
     },
     "output_type": "display_data"
    }
   ],
   "source": [
    "import numpy as np\n",
    "import matplotlib.pyplot as plt\n",
    "\n",
    "data = np.loadtxt('signatureData2.csv', delimiter=',')\n",
    "\n",
    "x1 = np.array([np.mean(data[:, 0]), np.mean(data[:,1])])\n",
    "x2 = np.array([np.mean(data[:, 2]), np.mean(data[:,3])])\n",
    "X1 = np.array(data[:, 0])\n",
    "Y1 = np.array(data[:, 1])\n",
    "X2 = np.array(data[:, 2])\n",
    "Y2 = np.array(data[:, 3])\n",
    "\n",
    "XY1 = np.vstack((X1, Y1)).T\n",
    "XY2 = np.vstack((X2, Y2)).T\n",
    "\n",
    "plt.plot(X1, Y1)\n",
    "plt.plot(X2, Y2)\n",
    "plt.show()\n",
    "\n",
    " # здесь мог бы быть ваш код"
   ]
  },
  {
   "cell_type": "markdown",
   "metadata": {
    "id": "Ej4XZjzfSYm7"
   },
   "source": [
    "##Задача 5  Метод Якоби."
   ]
  },
  {
   "cell_type": "markdown",
   "metadata": {
    "id": "qCtPhZf_TWTg"
   },
   "source": [
    "(20) Реализуйте метод итераций для решения системы линейных уравнений (метод Якоби). Для этого перепишите уравнение $A x=b$, выделив диагональную часть матрицы $A:$\n",
    "$$\n",
    "A=D+(A-D) \\text {, }\n",
    "$$\n",
    "в виде\n",
    "$$\n",
    "x_{n+1}=B x_{n}+c\n",
    "$$\n",
    "где $B=D^{-1}(D-A) .$ \n",
    "\n",
    "Найдите $c . $ \n",
    "Создавайте случайную матрицу с диагональным доминированием следующим способом:\n",
    "\n",
    "n=10\n",
    "\n",
    "A = rnd.uniform (size=(n,n))+np.diag([15]*n)\n",
    "\n",
    "b = rnd.uniform (size=n)"
   ]
  },
  {
   "cell_type": "markdown",
   "metadata": {
    "id": "YZTldqo2Tg5Z"
   },
   "source": [
    "Вычислите норму L2 (евклидову) соответствующей матрицы $B$ и выполните 22 итерации метода Якоби, распечатывая вектор х через каждые три итерации. В качестве начального приближения возьмите вектор из единиц. Убедитесь, что результируюший вектор $x$ действительно решает исходную систему.\n",
    "Матрица $A$, с которой вы работали выше, по построению доминируется диагональю. Что произойдёт, если уменьшать величину диагональных элементов? Проверьте сходимость итераций Якоби (вычислите также норму матрицы $B$ )."
   ]
  },
  {
   "cell_type": "code",
   "execution_count": null,
   "metadata": {
    "id": "99aECjwVTvhv"
   },
   "outputs": [],
   "source": [
    "import numpy as np\n",
    "from numpy import linalg as LA\n",
    "rnd = np.random. RandomState(1234)\n",
    "n=10\n",
    "A = rnd.uniform (size=(n,n))+np.diag([15]*n)\n",
    "b = rnd.uniform (size=n)\n",
    "\n",
    " # здесь мог бы быть ваш код"
   ]
  }
 ],
 "metadata": {
  "colab": {
   "collapsed_sections": [
    "EJeZafGri0uV",
    "k83kiUCSP5MJ",
    "YkURZwa6fGVW",
    "5goJK8XZP6h4",
    "Ej4XZjzfSYm7"
   ],
   "name": "Контрольная работа вариант 1.ipynb",
   "provenance": []
  },
  "kernelspec": {
   "display_name": "Python 3",
   "name": "python3"
  },
  "language_info": {
   "codemirror_mode": {
    "name": "ipython",
    "version": 3
   },
   "file_extension": ".py",
   "mimetype": "text/x-python",
   "name": "python",
   "nbconvert_exporter": "python",
   "pygments_lexer": "ipython3",
   "version": "3.10.11"
  }
 },
 "nbformat": 4,
 "nbformat_minor": 0
}
