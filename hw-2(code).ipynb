{
 "cells": [
  {
   "cell_type": "markdown",
   "metadata": {},
   "source": [
    "## Задание 1"
   ]
  },
  {
   "cell_type": "code",
   "execution_count": 1,
   "metadata": {},
   "outputs": [],
   "source": [
    "import numpy as np"
   ]
  },
  {
   "cell_type": "markdown",
   "metadata": {},
   "source": [
    "Сделаем генератор случайных матриц"
   ]
  },
  {
   "cell_type": "code",
   "execution_count": 26,
   "metadata": {},
   "outputs": [],
   "source": [
    "\n",
    "def matrix_generate(rows, columns, type_ = \"full\", eps = 0):\n",
    "    \"\"\"\n",
    "    matrix_generate(rows, columns, type_ = \"full\")\n",
    "\n",
    "    Создаёт случайную матрицу выбранного типа.\n",
    "\n",
    "    Если матрицу нужных размеров создать нельзя должен выдать\n",
    "    строку f\"Error with type {type_} and shape ({rows},{columns})\".\n",
    "\n",
    "    Parameters\n",
    "    ----------\n",
    "\n",
    "    rows : int\n",
    "        Количество строк в создаваемой матрице.\n",
    "    columns : int\n",
    "        Количество столбцов в создаваемой матрице.\n",
    "    type_ : str, optional\n",
    "        Тип создаваемой матрицы: \"full\", \"upper_triangular\", \"symmetric\" и т.д.\n",
    "    eps: float, optional\n",
    "        Дополнительное число, использующееся при генерации для некоторых типов матриц.\n",
    "\n",
    "    Returns\n",
    "    -------\n",
    "    out : ndarray or str\n",
    "        Выдаёт матрицу нужного типа либо ошибку.\n",
    "\n",
    "    Notes\n",
    "    -----\n",
    "    Поддерживаемые типы матриц:\n",
    "        \"full\",\"upper_triangular\",\n",
    "        \"symmetric\", \"lower_triangular\",\n",
    "        \"diagonal\", \"refined\",\n",
    "        \"fluctuate\"\n",
    "        ...\n",
    "\n",
    "\n",
    "    \"\"\"\n",
    "\n",
    "    A = None\n",
    "\n",
    "    if type_ == \"full\":\n",
    "        \n",
    "        A = np.random.random(size=(rows, columns))\n",
    "\n",
    "    elif type_ == \"upper_triangular\":\n",
    "\n",
    "        A = np.random.random(size=(rows, columns))\n",
    "        A = np.triu(A)  \n",
    "\n",
    "    elif type_ == \"lower_triangular\":\n",
    "\n",
    "        A = np.random.random(size=(rows, columns))\n",
    "        A = np.tril(A)\n",
    "\n",
    "    elif type_ == \"symmetric\":\n",
    "\n",
    "        if rows != columns:\n",
    "            \n",
    "            return f\"Error with type {type_} and shape ({rows},{columns})\"\n",
    "\n",
    "        else:\n",
    "\n",
    "            A = np.random.random(size=(rows, columns))\n",
    "            A = 0.5*(A+A.T)\n",
    "\n",
    "    elif type_ == \"diagonal\":\n",
    "\n",
    "        if rows != columns:\n",
    "            \n",
    "            return f\"Error with type {type_} and shape ({rows},{columns})\"\n",
    "        \n",
    "        else: \n",
    "\n",
    "            A = np.random.random(size=(rows,columns))\n",
    "            A = np.diag(A)\n",
    "    \n",
    "    if type_ == \"refined\":\n",
    "\n",
    "        if rows != columns:\n",
    "            \n",
    "            A = np.random.random(size=(rows, columns))\n",
    "\n",
    "        else:\n",
    "            \n",
    "            A = np.random.random(size=(rows, columns-1))\n",
    "            B = np.zeros((rows, 1))\n",
    "            A = np.hstack((A, B))\n",
    "\n",
    "    if type_ == \"fluctuate\":\n",
    "\n",
    "        A = np.random.random(size=(rows, columns))\n",
    "        B = np.random.randint(-np.abs(eps), np.abs(eps), (rows, columns))\n",
    "        A = A + B\n",
    "\n",
    "    return A"
   ]
  },
  {
   "cell_type": "markdown",
   "metadata": {},
   "source": [
    "Численный подсчет вероятности того, что случайно сгенерированная (пусть будет полная) матрица вырождена:"
   ]
  },
  {
   "cell_type": "code",
   "execution_count": 55,
   "metadata": {},
   "outputs": [
    {
     "data": {
      "text/plain": [
       "0.0"
      ]
     },
     "execution_count": 55,
     "metadata": {},
     "output_type": "execute_result"
    }
   ],
   "source": [
    "s = 0\n",
    "for i in range (0,10000):\n",
    "    H = matrix_generate(4, 4, \"full\", 0)      ## Делаем rows = columns, иначе всегда будет выроджена\n",
    "    if np.linalg.det(H) == 0:\n",
    "        s+=1\n",
    "    else:\n",
    "        s+=0\n",
    "\n",
    "probability = s/10000 \n",
    "probability"
   ]
  },
  {
   "cell_type": "markdown",
   "metadata": {},
   "source": [
    "Попробуем для вырожденных:"
   ]
  },
  {
   "cell_type": "code",
   "execution_count": 54,
   "metadata": {},
   "outputs": [
    {
     "data": {
      "text/plain": [
       "1.0"
      ]
     },
     "execution_count": 54,
     "metadata": {},
     "output_type": "execute_result"
    }
   ],
   "source": [
    "s = 0\n",
    "for i in range (0,10000):\n",
    "    H = matrix_generate(4, 4, \"refined\", 0)      ## Делаем rows = columns, иначе всегда будет выроджена\n",
    "    if np.linalg.det(H) == 0:\n",
    "        s+=1\n",
    "    else:\n",
    "        s+=0\n",
    "\n",
    "probability = s/10000 \n",
    "probability"
   ]
  },
  {
   "cell_type": "markdown",
   "metadata": {},
   "source": [
    "Получился очевидный ответ в виде единицы"
   ]
  },
  {
   "cell_type": "markdown",
   "metadata": {},
   "source": [
    "## Задание 2"
   ]
  },
  {
   "cell_type": "code",
   "execution_count": 56,
   "metadata": {},
   "outputs": [],
   "source": [
    "import scipy as sp"
   ]
  },
  {
   "cell_type": "markdown",
   "metadata": {},
   "source": [
    "Реализуем функцию подсчета произвольных норм для вектора и матриц"
   ]
  },
  {
   "cell_type": "code",
   "execution_count": 78,
   "metadata": {},
   "outputs": [],
   "source": [
    "def count_norm(object, type_=\"1\"):\n",
    "    \"\"\"\n",
    "    \n",
    "    count_norm(object, type_=\"1\")\n",
    "\n",
    "    Считает выбранную норму вектора или матрицы\n",
    "\n",
    "    Parameters\n",
    "    ----------\n",
    "\n",
    "    object : array\n",
    "        Вектор или матрица, для которых хотим посчитать норму\n",
    "    type_ : str\n",
    "        Вид нормы, которую хотим считать\n",
    "\n",
    "    Returns\n",
    "    -------\n",
    "    out : float\n",
    "        Выдаёт норму вида type_ для object\n",
    "\n",
    "    \"\"\"\n",
    "\n",
    "    if type_ == \"1\":\n",
    "\n",
    "        norm = np.linalg.norm(object, 1)\n",
    "\n",
    "    elif type_ == \"2\":\n",
    "\n",
    "        norm = np.linalg.norm(object, 2)\n",
    "\n",
    "    elif type_ == \"inf\":\n",
    "\n",
    "        norm = np.linalg.norm(object, np.inf)\n",
    "\n",
    "    return norm"
   ]
  },
  {
   "cell_type": "markdown",
   "metadata": {},
   "source": [
    "Пара примеров"
   ]
  },
  {
   "cell_type": "code",
   "execution_count": 70,
   "metadata": {},
   "outputs": [
    {
     "data": {
      "text/plain": [
       "7.0"
      ]
     },
     "execution_count": 70,
     "metadata": {},
     "output_type": "execute_result"
    }
   ],
   "source": [
    "vector = [3, 4]\n",
    "count_norm(vector, \"1\")"
   ]
  },
  {
   "cell_type": "code",
   "execution_count": 71,
   "metadata": {},
   "outputs": [
    {
     "data": {
      "text/plain": [
       "5.0"
      ]
     },
     "execution_count": 71,
     "metadata": {},
     "output_type": "execute_result"
    }
   ],
   "source": [
    "vector = [3, 4]\n",
    "count_norm(vector, \"2\")"
   ]
  },
  {
   "cell_type": "code",
   "execution_count": 75,
   "metadata": {},
   "outputs": [
    {
     "data": {
      "text/plain": [
       "4.0"
      ]
     },
     "execution_count": 75,
     "metadata": {},
     "output_type": "execute_result"
    }
   ],
   "source": [
    "vector = [3, 4]\n",
    "count_norm(vector, \"inf\")"
   ]
  },
  {
   "cell_type": "code",
   "execution_count": 88,
   "metadata": {},
   "outputs": [
    {
     "data": {
      "text/plain": [
       "4.0"
      ]
     },
     "execution_count": 88,
     "metadata": {},
     "output_type": "execute_result"
    }
   ],
   "source": [
    "matrix = np.ones((4,3))\n",
    "count_norm(matrix, \"1\")"
   ]
  },
  {
   "cell_type": "code",
   "execution_count": 89,
   "metadata": {},
   "outputs": [
    {
     "data": {
      "text/plain": [
       "3.4641016151377544"
      ]
     },
     "execution_count": 89,
     "metadata": {},
     "output_type": "execute_result"
    }
   ],
   "source": [
    "matrix = np.ones((4,3))\n",
    "count_norm(matrix, \"2\")"
   ]
  },
  {
   "cell_type": "code",
   "execution_count": 90,
   "metadata": {},
   "outputs": [
    {
     "data": {
      "text/plain": [
       "3.0"
      ]
     },
     "execution_count": 90,
     "metadata": {},
     "output_type": "execute_result"
    }
   ],
   "source": [
    "matrix = np.ones((4,3))\n",
    "count_norm(matrix, \"inf\")"
   ]
  },
  {
   "cell_type": "markdown",
   "metadata": {},
   "source": [
    "Реализуем функцию для подсчета числа обусловленности для какой-либо матрицы"
   ]
  },
  {
   "cell_type": "code",
   "execution_count": 94,
   "metadata": {},
   "outputs": [],
   "source": [
    "def conditionality_number(matrix, type_=\"1\"):\n",
    "    \"\"\"\n",
    "    \n",
    "    conditionality_number(matrix, type_=\"1\")\n",
    "\n",
    "    Считает число обусловленности\n",
    "\n",
    "    Parameters\n",
    "    ----------\n",
    "\n",
    "    matrix : array\n",
    "        Матрица, для которой хотим посчитать число\n",
    "    type_ : str\n",
    "        Вид нормы\n",
    "\n",
    "    Returns\n",
    "    -------\n",
    "    out : float\n",
    "        Выдаёт число обусловленности\n",
    "\n",
    "    \"\"\"\n",
    "     \n",
    "    if type_ == \"1\":\n",
    "\n",
    "        number = np.linalg.norm(matrix, 1)*np.linalg.norm(np.linalg.inv(matrix), 1)\n",
    "\n",
    "    elif type_ == \"2\":\n",
    "\n",
    "        number = np.linalg.norm(matrix, 2)*np.linalg.norm(np.linalg.inv(matrix), 2)\n",
    "\n",
    "    elif type_ == \"inf\":\n",
    "\n",
    "        number = np.linalg.norm(matrix, np.inf)*np.linalg.norm(np.linalg.inv(matrix), np.inf)\n",
    "\n",
    "    return number"
   ]
  },
  {
   "cell_type": "markdown",
   "metadata": {},
   "source": [
    "Посчитаем для какой-нибудь матрицы"
   ]
  },
  {
   "cell_type": "code",
   "execution_count": 97,
   "metadata": {},
   "outputs": [
    {
     "data": {
      "text/plain": [
       "(array([[0.52882263, 0.41631602, 0.07675245],\n",
       "        [0.95412021, 0.62873508, 0.54362248],\n",
       "        [0.93844189, 0.17611919, 0.56950135]]),\n",
       " 12.970019218268389)"
      ]
     },
     "execution_count": 97,
     "metadata": {},
     "output_type": "execute_result"
    }
   ],
   "source": [
    "L = matrix_generate(3, 3, \"full\", 0)\n",
    "L, conditionality_number(L, \"2\")"
   ]
  }
 ],
 "metadata": {
  "kernelspec": {
   "display_name": "Python 3",
   "language": "python",
   "name": "python3"
  },
  "language_info": {
   "codemirror_mode": {
    "name": "ipython",
    "version": 3
   },
   "file_extension": ".py",
   "mimetype": "text/x-python",
   "name": "python",
   "nbconvert_exporter": "python",
   "pygments_lexer": "ipython3",
   "version": "3.10.11"
  }
 },
 "nbformat": 4,
 "nbformat_minor": 2
}
