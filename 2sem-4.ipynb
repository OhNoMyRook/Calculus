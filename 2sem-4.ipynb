{
 "cells": [
  {
   "cell_type": "code",
   "execution_count": 25,
   "metadata": {},
   "outputs": [],
   "source": [
    "import numpy as np"
   ]
  },
  {
   "cell_type": "markdown",
   "metadata": {},
   "source": [
    "## Задание 1"
   ]
  },
  {
   "cell_type": "code",
   "execution_count": 26,
   "metadata": {},
   "outputs": [],
   "source": [
    "from PIL import Image\n",
    "im = Image.open(\"im1.jpg\")\n"
   ]
  },
  {
   "cell_type": "code",
   "execution_count": 27,
   "metadata": {},
   "outputs": [],
   "source": [
    "image_array = np.array(im)\n",
    "\n",
    "fourier_transform_r = np.fft.fft2(image_array[:, :, 0])\n",
    "fourier_transform_g = np.fft.fft2(image_array[:, :, 1])\n",
    "fourier_transform_b = np.fft.fft2(image_array[:, :, 2])\n",
    "\n",
    "fourier_shifted_r = np.fft.fftshift(fourier_transform_r)\n",
    "fourier_shifted_g = np.fft.fftshift(fourier_transform_g)\n",
    "fourier_shifted_b = np.fft.fftshift(fourier_transform_b)\n",
    "\n"
   ]
  },
  {
   "cell_type": "code",
   "execution_count": 28,
   "metadata": {},
   "outputs": [
    {
     "name": "stderr",
     "output_type": "stream",
     "text": [
      "C:\\Users\\Матвей\\AppData\\Local\\Temp\\ipykernel_5000\\1937735439.py:3: ComplexWarning: Casting complex values to real discards the imaginary part\n",
      "  image_reconstructed = np.clip(image_fourier, 0, 255).astype(np.uint8)\n"
     ]
    }
   ],
   "source": [
    "image_fourier = np.stack([fourier_transform_r, fourier_transform_g, fourier_transform_b], axis=-1)\n",
    "\n",
    "image_reconstructed = np.clip(image_fourier, 0, 255).astype(np.uint8)\n",
    "\n",
    "output_image = Image.fromarray(image_reconstructed)\n",
    "output_image.save(\"out1.jpg\")\n"
   ]
  },
  {
   "cell_type": "code",
   "execution_count": 29,
   "metadata": {},
   "outputs": [
    {
     "data": {
      "text/plain": [
       "(600, 800, 3)"
      ]
     },
     "execution_count": 29,
     "metadata": {},
     "output_type": "execute_result"
    }
   ],
   "source": [
    "image_array.shape"
   ]
  },
  {
   "cell_type": "code",
   "execution_count": 30,
   "metadata": {},
   "outputs": [],
   "source": [
    "rows, cols = image_array.shape[:2]\n",
    "fourier_shifted_r[:rows//2, :] = 0\n",
    "fourier_shifted_r[:, :cols//2] = 0\n",
    "fourier_shifted_g[:rows//2, :] = 0\n",
    "fourier_shifted_g[:, :cols//2] = 0\n",
    "fourier_shifted_b[:rows//2, :] = 0\n",
    "fourier_shifted_b[:, :cols//2] = 0\n",
    "\n",
    "fourier_r = np.fft.ifftshift(fourier_shifted_r)\n",
    "fourier_g = np.fft.ifftshift(fourier_shifted_g)\n",
    "fourier_b = np.fft.ifftshift(fourier_shifted_b)\n",
    "\n",
    "image_reconstructed_r = np.abs(np.fft.ifft2(fourier_r))\n",
    "image_reconstructed_g = np.abs(np.fft.ifft2(fourier_g))\n",
    "image_reconstructed_b = np.abs(np.fft.ifft2(fourier_b))\n",
    "\n",
    "image_reconstructed = np.stack([image_reconstructed_r, image_reconstructed_g, image_reconstructed_b], axis=-1)\n",
    "\n",
    "image_reconstructed = np.clip(image_reconstructed, 0, 255).astype(np.uint8)\n",
    "\n",
    "output_image = Image.fromarray(image_reconstructed)\n",
    "output_image.save(\"out2.jpg\")"
   ]
  },
  {
   "cell_type": "markdown",
   "metadata": {},
   "source": [
    "## Задание 2"
   ]
  },
  {
   "cell_type": "code",
   "execution_count": 31,
   "metadata": {},
   "outputs": [],
   "source": [
    "import scipy.io.wavfile as wavfile"
   ]
  },
  {
   "cell_type": "code",
   "execution_count": 73,
   "metadata": {},
   "outputs": [],
   "source": [
    "sample_rate, data = wavfile.read(\"in10.wav\")\n",
    "data = data[:, 0]\n",
    "\n",
    "fft_data = np.fft.fft(data)\n",
    "fft_data_to_change = fft_data.copy()\n",
    "fft_data_to_change_2 = fft_data.copy()\n",
    "\n",
    "noise_amplitude = 10000000 \n",
    "fft_data_to_change[:10000] += noise_amplitude * np.random.randn(10000)\n",
    "\n",
    "noisy_audio = np.real(np.fft.ifft(fft_data_to_change)).astype(np.int16)\n",
    "wavfile.write(\"out1.wav\", sample_rate, noisy_audio)\n",
    "\n",
    "\n",
    "fft_data_to_change_2[5000:] = 0  ## Оставляем только низкие\n",
    "\n",
    "filtered_audio = np.real(np.fft.ifft(fft_data_to_change_2)).astype(np.int16)\n",
    "wavfile.write(\"out2.wav\", sample_rate, filtered_audio)\n",
    "\n",
    "\n",
    "\n",
    "fft_data[:250000] = 0  ## Оставляем только высокие\n",
    "\n",
    "filtered_audio = np.real(np.fft.ifft(fft_data)).astype(np.int16)\n",
    "wavfile.write(\"out3.wav\", sample_rate, filtered_audio)"
   ]
  }
 ],
 "metadata": {
  "kernelspec": {
   "display_name": "Python 3",
   "language": "python",
   "name": "python3"
  },
  "language_info": {
   "codemirror_mode": {
    "name": "ipython",
    "version": 3
   },
   "file_extension": ".py",
   "mimetype": "text/x-python",
   "name": "python",
   "nbconvert_exporter": "python",
   "pygments_lexer": "ipython3",
   "version": "3.10.11"
  }
 },
 "nbformat": 4,
 "nbformat_minor": 2
}
